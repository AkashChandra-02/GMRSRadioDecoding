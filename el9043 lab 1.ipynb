{
 "cells": [
  {
   "cell_type": "markdown",
   "metadata": {},
   "source": [
    "http://witestlab.poly.edu/~ffund/el9043/labs/lab1.html\n",
    "https://gist.github.com/ffund/1d0fb274f5772c1c908d1ea7e66c992e#file-fm-radio-py"
   ]
  },
  {
   "cell_type": "code",
   "execution_count": 2,
   "metadata": {},
   "outputs": [],
   "source": [
    "from rtlsdr import RtlSdr  \n",
    "import numpy as np  \n",
    "import scipy.signal as signal\n",
    "\n",
    "import matplotlib  \n",
    "import matplotlib.pyplot as plt"
   ]
  },
  {
   "cell_type": "code",
   "execution_count": null,
   "metadata": {},
   "outputs": [],
   "source": [
    "sdr = RtlSdr()\n",
    "\n",
    "F_station = int(404.96e6)  # Pick a radio station  \n",
    "F_offset = 250000         # Offset to capture at  \n",
    "# We capture at an offset to avoid DC spike\n",
    "Fc = F_station - F_offset # Capture center frequency  \n",
    "Fs = int(1140000)         # Sample rate  \n",
    "N = int(8192000)            # Samples to capture  \n",
    "\n",
    "# configure device\n",
    "sdr.sample_rate = Fs      # Hz  \n",
    "sdr.center_freq = Fc      # Hz  \n",
    "sdr.gain = 'auto'\n",
    "\n",
    "# Read samples\n",
    "samples = sdr.read_samples(N)\n",
    "\n",
    "# Clean up the SDR device\n",
    "sdr.close()  \n",
    "del(sdr)\n",
    "\n",
    "# Convert samples to a numpy array\n",
    "x1 = np.array(samples).astype(\"complex64\")\n",
    "\n",
    "# To mix the data down, generate a digital complex exponential \n",
    "# (with the same length as x1) with phase -F_offset/Fs\n",
    "fc1 = np.exp(-1.0j*2.0*np.pi* F_offset/Fs*np.arange(len(x1)))  \n",
    "# Now, just multiply x1 and the digital complex expontential\n",
    "x2 = x1 * fc1  \n",
    "\n",
    "# An FM broadcast signal has  a bandwidth of 200 kHz\n",
    "f_bw = 200000  \n",
    "n_taps = 64  \n",
    "# Use Remez algorithm to design filter coefficients\n",
    "lpf = signal.remez(n_taps, [0, f_bw, f_bw+(Fs/2-f_bw)/4, Fs/2], [1,0], Hz=Fs)  \n",
    "x3 = signal.lfilter(lpf, 1.0, x2)\n",
    "\n",
    "dec_rate = int(Fs / f_bw)  \n",
    "x4 = x3[0::dec_rate]  \n",
    "# Calculate the new sampling rate\n",
    "Fs_y = Fs/dec_rate  \n",
    "\n",
    "### Polar discriminator\n",
    "y5 = x4[1:] * np.conj(x4[:-1])  \n",
    "x5 = np.angle(y5)  \n",
    "\n",
    "# Note: x5 is now an array of real, not complex, values\n",
    "# As a result, the PSDs will now be plotted single-sided by default (since\n",
    "# a real signal has a symmetric spectrum)\n",
    "\n",
    "\n",
    "# The de-emphasis filter\n",
    "# Given a signal 'x5' (in a numpy array) with sampling rate Fs_y\n",
    "d = Fs_y * 75e-6   # Calculate the # of samples to hit the -3dB point  \n",
    "x = np.exp(-1/d)   # Calculate the decay between each sample  \n",
    "b = [1-x]          # Create the filter coefficients  \n",
    "a = [1,-x]  \n",
    "x6 = signal.lfilter(b,a,x5)  \n",
    "\n",
    "# Find a decimation rate to achieve audio sampling rate between 44-48 kHz\n",
    "audio_freq = 44100.0  \n",
    "dec_audio = int(Fs_y/audio_freq)  \n",
    "Fs_audio = Fs_y / dec_audio\n",
    "\n",
    "x7 = signal.decimate(x6, dec_audio)  \n",
    "\n",
    "# Scale audio to adjust volume\n",
    "x7 *= 10000 / np.max(np.abs(x7))  \n",
    "# Save to file as 16-bit signed single-channel audio samples\n",
    "x7.astype(\"int16\").tofile(\"wbfm-mono.raw\")  \n",
    "\n",
    "print(Fs_audio)  "
   ]
  },
  {
   "cell_type": "code",
   "execution_count": null,
   "metadata": {},
   "outputs": [],
   "source": [
    "type(samples[0])"
   ]
  },
  {
   "cell_type": "code",
   "execution_count": null,
   "metadata": {},
   "outputs": [],
   "source": [
    "samples.size"
   ]
  },
  {
   "cell_type": "code",
   "execution_count": null,
   "metadata": {},
   "outputs": [],
   "source": [
    "textOpen = open('samples.txt','w')\n",
    "for a in range(samples.size):\n",
    "        textOpen.write(str(samples[a]))\n",
    "        textOpen.write('\\n')\n",
    "textOpen.close()\n",
    "print(\"Done\")"
   ]
  },
  {
   "cell_type": "code",
   "execution_count": 1,
   "metadata": {},
   "outputs": [
    {
     "ename": "NameError",
     "evalue": "name 'np' is not defined",
     "output_type": "error",
     "traceback": [
      "\u001b[1;31m---------------------------------------------------------------------------\u001b[0m",
      "\u001b[1;31mNameError\u001b[0m                                 Traceback (most recent call last)",
      "\u001b[1;32m<ipython-input-1-fbba3631057a>\u001b[0m in \u001b[0;36m<module>\u001b[1;34m\u001b[0m\n\u001b[1;32m----> 1\u001b[1;33m \u001b[0msamples\u001b[0m\u001b[1;33m=\u001b[0m\u001b[0mnp\u001b[0m\u001b[1;33m.\u001b[0m\u001b[0mloadtxt\u001b[0m\u001b[1;33m(\u001b[0m\u001b[1;34m'samples.txt'\u001b[0m\u001b[1;33m,\u001b[0m \u001b[0mdtype\u001b[0m\u001b[1;33m=\u001b[0m\u001b[0mnp\u001b[0m\u001b[1;33m.\u001b[0m\u001b[0mcomplex128\u001b[0m\u001b[1;33m,\u001b[0m \u001b[0mdelimiter\u001b[0m\u001b[1;33m=\u001b[0m\u001b[1;34m'\\n'\u001b[0m\u001b[1;33m)\u001b[0m\u001b[1;33m\u001b[0m\u001b[1;33m\u001b[0m\u001b[0m\n\u001b[0m",
      "\u001b[1;31mNameError\u001b[0m: name 'np' is not defined"
     ]
    }
   ],
   "source": []
  }
 ],
 "metadata": {
  "kernelspec": {
   "display_name": "Python 3",
   "language": "python",
   "name": "python3"
  },
  "language_info": {
   "codemirror_mode": {
    "name": "ipython",
    "version": 3
   },
   "file_extension": ".py",
   "mimetype": "text/x-python",
   "name": "python",
   "nbconvert_exporter": "python",
   "pygments_lexer": "ipython3",
   "version": "3.8.5"
  }
 },
 "nbformat": 4,
 "nbformat_minor": 4
}
